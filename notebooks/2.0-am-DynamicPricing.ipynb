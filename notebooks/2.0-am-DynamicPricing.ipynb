{
 "cells": [
  {
   "cell_type": "markdown",
   "metadata": {},
   "source": [
    "# Dynamic Pricing"
   ]
  },
  {
   "cell_type": "markdown",
   "metadata": {},
   "source": [
    "https://blog.griddynamics.com/dynamic-pricing-algorithms/"
   ]
  },
  {
   "cell_type": "code",
   "execution_count": 1,
   "metadata": {},
   "outputs": [
    {
     "ename": "NameError",
     "evalue": "name 'h_vec' is not defined",
     "output_type": "error",
     "traceback": [
      "\u001b[0;31m---------------------------------------------------------------------------\u001b[0m",
      "\u001b[0;31mNameError\u001b[0m                                 Traceback (most recent call last)",
      "\u001b[0;32m<ipython-input-1-371b2d4cb30c>\u001b[0m in \u001b[0;36m<module>\u001b[0;34m\u001b[0m\n\u001b[1;32m     13\u001b[0m \u001b[0;34m\u001b[0m\u001b[0m\n\u001b[1;32m     14\u001b[0m \u001b[0mtau\u001b[0m \u001b[0;34m=\u001b[0m \u001b[0;36m0\u001b[0m                                 \u001b[0;31m# start time of the current interval\u001b[0m\u001b[0;34m\u001b[0m\u001b[0;34m\u001b[0m\u001b[0m\n\u001b[0;32m---> 15\u001b[0;31m \u001b[0mp\u001b[0m \u001b[0;34m=\u001b[0m \u001b[0mh_vec\u001b[0m\u001b[0;34m[\u001b[0m\u001b[0;36m0\u001b[0m\u001b[0;34m]\u001b[0m\u001b[0;34m[\u001b[0m\u001b[0;34m'p_opt'\u001b[0m\u001b[0;34m]\u001b[0m                   \u001b[0;31m# initial price\u001b[0m\u001b[0;34m\u001b[0m\u001b[0;34m\u001b[0m\u001b[0m\n\u001b[0m\u001b[1;32m     16\u001b[0m \u001b[0;34m\u001b[0m\u001b[0m\n\u001b[1;32m     17\u001b[0m \u001b[0mt_mask\u001b[0m \u001b[0;34m=\u001b[0m \u001b[0mintervals\u001b[0m\u001b[0;34m(\u001b[0m\u001b[0mm\u001b[0m\u001b[0;34m,\u001b[0m \u001b[0mT\u001b[0m\u001b[0;34m,\u001b[0m \u001b[0;36m2\u001b[0m\u001b[0;34m)\u001b[0m\u001b[0;34m\u001b[0m\u001b[0;34m\u001b[0m\u001b[0m\n",
      "\u001b[0;31mNameError\u001b[0m: name 'h_vec' is not defined"
     ]
    }
   ],
   "source": [
    "T = 24 * 1                              # time step is one hour, flash offering for 1 day \n",
    "m = 4                                   # not more than 4 price updates\n",
    "\n",
    "def logx(x, n):                         # iterative logarithm function\n",
    "    for i in range(0, n): x = math.log(x) if x > 0 else 0\n",
    "    return x\n",
    "\n",
    "def intervals(m, T, scale):             # generate a price schedule vector\n",
    "    mask = []\n",
    "    for i in range(1, m):\n",
    "        mask.extend( np.full(scale * math.ceil(logx(T, m - i)), i - 1) )\n",
    "    return np.append(mask, np.full(T - len(mask), m - 1))\n",
    "\n",
    "tau = 0                                 # start time of the current interval\n",
    "p = h_vec[0]['p_opt']                   # initial price\n",
    "\n",
    "t_mask = intervals(m, T, 2)\n",
    "h_vec = demand_hypotheses(...)\n",
    "\n",
    "hist_d = []\n",
    "for t in range(0, T - 1):               # simulation loop\n",
    "    realized_d = sample_actual_demand(p)\n",
    "    hist_d.append(realized_d)\n",
    "\n",
    "    if( t_mask[t] != t_mask[t + 1] ):   # end of the interval\n",
    "        interval_mean_d = np.mean( hist_d[tau : t + 1] )\n",
    "        \n",
    "        min_dist = float(\"inf\")\n",
    "        for h in h_vec:                 # search for the best hypothesis\n",
    "            dist = abs(interval_mean_d - h['d'](p))\n",
    "            if(dist < min_dist):\n",
    "                min_error = error\n",
    "                h_opt = h\n",
    "\n",
    "        p = h_opt['p_opt']              # set price for the next interval\n",
    "        tau = t + 1                     # switch to the next interval"
   ]
  },
  {
   "cell_type": "code",
   "execution_count": null,
   "metadata": {},
   "outputs": [],
   "source": []
  }
 ],
 "metadata": {
  "kernelspec": {
   "display_name": "Python 3",
   "language": "python",
   "name": "python3"
  },
  "language_info": {
   "codemirror_mode": {
    "name": "ipython",
    "version": 3
   },
   "file_extension": ".py",
   "mimetype": "text/x-python",
   "name": "python",
   "nbconvert_exporter": "python",
   "pygments_lexer": "ipython3",
   "version": "3.6.10"
  }
 },
 "nbformat": 4,
 "nbformat_minor": 4
}
