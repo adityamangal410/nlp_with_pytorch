{
 "cells": [
  {
   "cell_type": "code",
   "execution_count": 1,
   "metadata": {},
   "outputs": [],
   "source": [
    "glove_path = '/Users/amangal/Desktop/machine-learning/nlp_with_disaster_tweets/data/glove.twitter.27B/glove.twitter.27B.50d.txt'"
   ]
  },
  {
   "cell_type": "code",
   "execution_count": 5,
   "metadata": {},
   "outputs": [
    {
     "name": "stdout",
     "output_type": "stream",
     "text": [
      "The autoreload extension is already loaded. To reload it, use:\n",
      "  %reload_ext autoreload\n"
     ]
    }
   ],
   "source": [
    "# hack to import local classes\n",
    "import sys\n",
    "sys.path.append('..')\n",
    "\n",
    "%load_ext autoreload\n",
    "%autoreload 2\n",
    "\n",
    "from src.features.pre_trained_embeddings import PreTrainedEmbeddings"
   ]
  },
  {
   "cell_type": "code",
   "execution_count": 6,
   "metadata": {},
   "outputs": [],
   "source": [
    "embeddings = PreTrainedEmbeddings.from_embeddings_file(glove_path)"
   ]
  },
  {
   "cell_type": "code",
   "execution_count": 7,
   "metadata": {},
   "outputs": [
    {
     "data": {
      "text/plain": [
       "array([-0.77201  , -0.16548  ,  0.22263  , -0.56608  ,  0.15602  ,\n",
       "       -0.050659 ,  0.076896 ,  0.90058  , -0.22829  , -0.083794 ,\n",
       "       -0.0087308,  0.12425  , -3.6283   , -0.70631  ,  0.3391   ,\n",
       "       -0.26866  ,  0.012886 ,  0.1314   ,  0.13072  ,  0.1594   ,\n",
       "       -0.43884  ,  0.30631  , -0.51841  , -0.86402  ,  0.89706  ,\n",
       "       -0.29222  ,  0.071633 , -0.7285   ,  0.47514  , -0.54581  ,\n",
       "        0.37375  , -0.2815   , -0.82164  , -0.1245   ,  0.06561  ,\n",
       "        0.2686   ,  0.12587  , -0.50189  ,  0.41322  , -0.40509  ,\n",
       "       -0.88866  , -0.71627  , -0.010728 , -0.29513  ,  0.098062 ,\n",
       "        0.47936  ,  0.49517  , -0.30246  ,  0.37465  ,  0.010619 ])"
      ]
     },
     "execution_count": 7,
     "metadata": {},
     "output_type": "execute_result"
    }
   ],
   "source": [
    "embeddings.get_embedding('king')"
   ]
  },
  {
   "cell_type": "code",
   "execution_count": null,
   "metadata": {},
   "outputs": [],
   "source": []
  }
 ],
 "metadata": {
  "kernelspec": {
   "display_name": "Python 3",
   "language": "python",
   "name": "python3"
  },
  "language_info": {
   "codemirror_mode": {
    "name": "ipython",
    "version": 3
   },
   "file_extension": ".py",
   "mimetype": "text/x-python",
   "name": "python",
   "nbconvert_exporter": "python",
   "pygments_lexer": "ipython3",
   "version": "3.6.10"
  }
 },
 "nbformat": 4,
 "nbformat_minor": 4
}
