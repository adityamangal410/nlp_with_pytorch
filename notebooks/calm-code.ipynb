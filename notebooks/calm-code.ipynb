{
 "cells": [
  {
   "cell_type": "markdown",
   "metadata": {},
   "source": [
    "# Calm Code"
   ]
  },
  {
   "cell_type": "markdown",
   "metadata": {},
   "source": [
    "https://calmcode.io"
   ]
  },
  {
   "cell_type": "markdown",
   "metadata": {},
   "source": [
    "## args kwargs"
   ]
  },
  {
   "cell_type": "code",
   "execution_count": null,
   "metadata": {},
   "outputs": [],
   "source": [
    "def multiply(a, b):\n",
    "    return a*b\n",
    "\n",
    "print(multiply(2,3))"
   ]
  },
  {
   "cell_type": "code",
   "execution_count": null,
   "metadata": {},
   "outputs": [],
   "source": [
    "def multiply(*args):\n",
    "    print(args)\n",
    "    result = 1\n",
    "    for n in args:\n",
    "        result = result*n\n",
    "    return result\n",
    "\n",
    "print(multiply(2,3,4,5))"
   ]
  },
  {
   "cell_type": "code",
   "execution_count": null,
   "metadata": {},
   "outputs": [],
   "source": [
    "def func(a, b, *args, keyword=True, **kwargs):\n",
    "    print(a, b)\n",
    "    print(args)\n",
    "    print(keyword)\n",
    "    print(kwargs)"
   ]
  },
  {
   "cell_type": "code",
   "execution_count": null,
   "metadata": {},
   "outputs": [],
   "source": [
    "func(2,3,4,3,5, param=21)"
   ]
  },
  {
   "cell_type": "code",
   "execution_count": null,
   "metadata": {},
   "outputs": [],
   "source": [
    "arr = [4,3,5]\n",
    "pars = {'p1': 2, 'p2': 'hi'}\n",
    "func(2,3,*arr, param=21, **pars)"
   ]
  },
  {
   "cell_type": "markdown",
   "metadata": {},
   "source": [
    "## Comprehensions"
   ]
  },
  {
   "cell_type": "code",
   "execution_count": null,
   "metadata": {},
   "outputs": [],
   "source": [
    "old_list = [1,2,3,4,5]\n",
    "new_list = []\n",
    "for i in old_list:\n",
    "    new_list.append(i*2)\n",
    "new_list"
   ]
  },
  {
   "cell_type": "code",
   "execution_count": null,
   "metadata": {},
   "outputs": [],
   "source": [
    "[i*2 for i in old_list]"
   ]
  },
  {
   "cell_type": "code",
   "execution_count": null,
   "metadata": {},
   "outputs": [],
   "source": [
    "[i*2 for i in old_list if i%2==0]"
   ]
  },
  {
   "cell_type": "code",
   "execution_count": null,
   "metadata": {},
   "outputs": [],
   "source": [
    "[i*2 if i>3 else i*3 for i in old_list if i%2==0]"
   ]
  },
  {
   "cell_type": "code",
   "execution_count": null,
   "metadata": {},
   "outputs": [],
   "source": [
    "[char for idx, char in enumerate('abcde') if idx%2==0]"
   ]
  },
  {
   "cell_type": "code",
   "execution_count": null,
   "metadata": {},
   "outputs": [],
   "source": [
    "[char.upper() if char in 'aeiou' else char \n",
    " for idx, char in enumerate('abcde') \n",
    " if idx%2==0]"
   ]
  },
  {
   "cell_type": "code",
   "execution_count": null,
   "metadata": {},
   "outputs": [],
   "source": [
    "[(i,j) for i in range(5) if i>2 for j in range(i) if j<2]"
   ]
  },
  {
   "cell_type": "markdown",
   "metadata": {},
   "source": [
    "set comprehension"
   ]
  },
  {
   "cell_type": "code",
   "execution_count": null,
   "metadata": {},
   "outputs": [],
   "source": [
    "{c for c in 'abceabf'}"
   ]
  },
  {
   "cell_type": "code",
   "execution_count": null,
   "metadata": {},
   "outputs": [],
   "source": [
    "tuple(c for c in 'abceabf')"
   ]
  },
  {
   "cell_type": "code",
   "execution_count": null,
   "metadata": {},
   "outputs": [],
   "source": [
    "{i:c for i,c in enumerate('abceabf')}"
   ]
  },
  {
   "cell_type": "code",
   "execution_count": null,
   "metadata": {},
   "outputs": [],
   "source": [
    "{c:i for i,c in enumerate('abcdefa')}"
   ]
  },
  {
   "cell_type": "code",
   "execution_count": null,
   "metadata": {},
   "outputs": [],
   "source": [
    "arr = [('a',1), ('b', 2), ('c', 3)]"
   ]
  },
  {
   "cell_type": "code",
   "execution_count": null,
   "metadata": {},
   "outputs": [],
   "source": [
    "[{key:val} for idx, (key,val) in enumerate(arr)]"
   ]
  },
  {
   "cell_type": "code",
   "execution_count": null,
   "metadata": {},
   "outputs": [],
   "source": [
    "d = {'a': 1, 'b': 2, 'c': 3}\n",
    "[(k,v) for k,v in d.items()]"
   ]
  },
  {
   "cell_type": "code",
   "execution_count": null,
   "metadata": {},
   "outputs": [],
   "source": [
    "[(a,b) for a,b in zip([1,2,3], [4,5,6])]"
   ]
  },
  {
   "cell_type": "code",
   "execution_count": null,
   "metadata": {},
   "outputs": [],
   "source": [
    "[(a,b,c) for a,b,c in zip([1,2,3], [4,5,6], [7,8,9])]"
   ]
  },
  {
   "cell_type": "markdown",
   "metadata": {},
   "source": [
    "## Method Chains"
   ]
  },
  {
   "cell_type": "code",
   "execution_count": null,
   "metadata": {},
   "outputs": [],
   "source": [
    "# !curl https://calmcode.io/datasets/pokemon.json --output pokemon.json"
   ]
  },
  {
   "cell_type": "code",
   "execution_count": null,
   "metadata": {},
   "outputs": [],
   "source": [
    "import json\n",
    "import pathlib"
   ]
  },
  {
   "cell_type": "code",
   "execution_count": null,
   "metadata": {},
   "outputs": [],
   "source": [
    "poke_dict = json.loads(pathlib.Path(\"../data/raw/pokemon.json\").read_text())"
   ]
  },
  {
   "cell_type": "code",
   "execution_count": null,
   "metadata": {},
   "outputs": [],
   "source": [
    "poke_dict[:3]"
   ]
  },
  {
   "cell_type": "code",
   "execution_count": null,
   "metadata": {},
   "outputs": [],
   "source": [
    "class Clumper:\n",
    "    def __init__(self, blob):\n",
    "        self.blob = blob\n",
    "        \n",
    "    def keep(self, func):\n",
    "        return [d for d in self.blob if func(d)]"
   ]
  },
  {
   "cell_type": "code",
   "execution_count": null,
   "metadata": {},
   "outputs": [],
   "source": [
    "Clumper(poke_dict).keep(lambda d: 'Grass' in d['type'])"
   ]
  },
  {
   "cell_type": "code",
   "execution_count": null,
   "metadata": {},
   "outputs": [],
   "source": [
    "class Clumper:\n",
    "    def __init__(self, blob):\n",
    "        self.blob = blob\n",
    "        \n",
    "    def keep(self, func):\n",
    "        return Clumper([d for d in self.blob if func(d)])"
   ]
  },
  {
   "cell_type": "code",
   "execution_count": null,
   "metadata": {},
   "outputs": [],
   "source": [
    "(Clumper(poke_dict)\n",
    " .keep(lambda d: 'Grass' in d['type'])\n",
    " .keep(lambda d: d['hp'] < 60)\n",
    " .blob\n",
    ")"
   ]
  },
  {
   "cell_type": "code",
   "execution_count": null,
   "metadata": {},
   "outputs": [],
   "source": [
    "class Clumper:\n",
    "    def __init__(self, blob):\n",
    "        self.blob = blob\n",
    "        \n",
    "    def keep(self, *funcs):\n",
    "        data = self.blob\n",
    "        for func in funcs:\n",
    "            data = [d for d in data if func(d)]\n",
    "        return Clumper(data)"
   ]
  },
  {
   "cell_type": "code",
   "execution_count": null,
   "metadata": {},
   "outputs": [],
   "source": [
    "(Clumper(poke_dict)\n",
    " .keep(lambda d: 'Grass' in d['type'],\n",
    "       lambda d: d['hp'] < 60)\n",
    " .blob\n",
    ")"
   ]
  },
  {
   "cell_type": "code",
   "execution_count": null,
   "metadata": {},
   "outputs": [],
   "source": [
    "class Clumper:\n",
    "    def __init__(self, blob):\n",
    "        self.blob = blob\n",
    "        \n",
    "    def keep(self, *funcs):\n",
    "        data = self.blob\n",
    "        for func in funcs:\n",
    "            data = [d for d in data if func(d)]\n",
    "        return Clumper(data)\n",
    "    \n",
    "    def head(self, n):\n",
    "        return Clumper([self.blob[i] for i in range(n)])\n",
    "    \n",
    "    def tail(self, n):\n",
    "        return Clumper([self.blob[-i] for i in range(1,n+1)])"
   ]
  },
  {
   "cell_type": "code",
   "execution_count": null,
   "metadata": {},
   "outputs": [],
   "source": [
    "(Clumper(poke_dict)\n",
    " .keep(lambda d: 'Grass' in d['type'],\n",
    "       lambda d: d['hp'] < 60)\n",
    " .head(2)\n",
    " .blob\n",
    ")"
   ]
  },
  {
   "cell_type": "code",
   "execution_count": null,
   "metadata": {},
   "outputs": [],
   "source": [
    "(Clumper(poke_dict)\n",
    " .keep(lambda d: 'Grass' in d['type'],\n",
    "       lambda d: d['hp'] < 60)\n",
    " .tail(2)\n",
    " .blob\n",
    ")"
   ]
  },
  {
   "cell_type": "code",
   "execution_count": null,
   "metadata": {},
   "outputs": [],
   "source": [
    "class Clumper:\n",
    "    def __init__(self, blob):\n",
    "        self.blob = blob\n",
    "        \n",
    "    def keep(self, *funcs):\n",
    "        data = self.blob\n",
    "        for func in funcs:\n",
    "            data = [d for d in data if func(d)]\n",
    "        return Clumper(data)\n",
    "    \n",
    "    def head(self, n):\n",
    "        return Clumper([self.blob[i] for i in range(n)])\n",
    "    \n",
    "    def tail(self, n):\n",
    "        return Clumper([self.blob[-i] for i in range(1,n+1)])\n",
    "    \n",
    "    def select(self, *keys):\n",
    "        return Clumper([{k:d[k] for k in keys} for d in self.blob])\n",
    "    \n",
    "    def mutate(self, **kwargs):\n",
    "        data = self.blob\n",
    "        for key, func in kwargs.items():\n",
    "            for i in range(len(data)):            \n",
    "                data[i][key] = func(data[i])\n",
    "        return Clumper(data)"
   ]
  },
  {
   "cell_type": "code",
   "execution_count": null,
   "metadata": {},
   "outputs": [],
   "source": [
    "(Clumper(poke_dict)\n",
    " .keep(lambda d: 'Grass' in d['type'],\n",
    "       lambda d: d['hp'] < 60)\n",
    " .tail(2)\n",
    " .select('name', 'hp')\n",
    " .mutate(hp = lambda d: d['hp']*2,\n",
    "         hp4 = lambda d: d['hp']*4)\n",
    " .blob\n",
    ")"
   ]
  },
  {
   "cell_type": "code",
   "execution_count": null,
   "metadata": {},
   "outputs": [],
   "source": [
    "class Clumper:\n",
    "    def __init__(self, blob):\n",
    "        self.blob = blob\n",
    "        \n",
    "    def keep(self, *funcs):\n",
    "        data = self.blob\n",
    "        for func in funcs:\n",
    "            data = [d for d in data if func(d)]\n",
    "        return Clumper(data)\n",
    "    \n",
    "    def head(self, n):\n",
    "        return Clumper([self.blob[i] for i in range(n)])\n",
    "    \n",
    "    def tail(self, n):\n",
    "        return Clumper([self.blob[-i] for i in range(1,n+1)])\n",
    "    \n",
    "    def select(self, *keys):\n",
    "        return Clumper([{k:d[k] for k in keys} for d in self.blob])\n",
    "    \n",
    "    def mutate(self, **kwargs):\n",
    "        data = self.blob\n",
    "        for key, func in kwargs.items():\n",
    "            for i in range(len(data)):            \n",
    "                data[i][key] = func(data[i])\n",
    "        return Clumper(data)\n",
    "    \n",
    "    def sort(self, key, reverse=False):\n",
    "        return Clumper(sorted(self.blob, key=key, reverse=reverse))"
   ]
  },
  {
   "cell_type": "code",
   "execution_count": null,
   "metadata": {},
   "outputs": [],
   "source": [
    "(Clumper(poke_dict)\n",
    " .keep(lambda d: 'Grass' in d['type'],\n",
    "       lambda d: d['hp'] < 60)\n",
    " .select('name', 'hp')\n",
    " .sort(lambda d: d['hp'], reverse=True)\n",
    " .blob\n",
    ")"
   ]
  },
  {
   "cell_type": "markdown",
   "metadata": {},
   "source": [
    "## Pandas Pipe"
   ]
  },
  {
   "cell_type": "code",
   "execution_count": 63,
   "metadata": {},
   "outputs": [],
   "source": [
    "import pandas as pd"
   ]
  },
  {
   "cell_type": "code",
   "execution_count": 64,
   "metadata": {},
   "outputs": [],
   "source": [
    "df = pd.read_csv('https://calmcode.io/datasets/bigmac.csv')"
   ]
  },
  {
   "cell_type": "code",
   "execution_count": 83,
   "metadata": {},
   "outputs": [
    {
     "data": {
      "text/html": [
       "<div>\n",
       "<style scoped>\n",
       "    .dataframe tbody tr th:only-of-type {\n",
       "        vertical-align: middle;\n",
       "    }\n",
       "\n",
       "    .dataframe tbody tr th {\n",
       "        vertical-align: top;\n",
       "    }\n",
       "\n",
       "    .dataframe thead th {\n",
       "        text-align: right;\n",
       "    }\n",
       "</style>\n",
       "<table border=\"1\" class=\"dataframe\">\n",
       "  <thead>\n",
       "    <tr style=\"text-align: right;\">\n",
       "      <th></th>\n",
       "      <th>date</th>\n",
       "      <th>currency_code</th>\n",
       "      <th>name</th>\n",
       "      <th>local_price</th>\n",
       "      <th>dollar_ex</th>\n",
       "      <th>dollar_price</th>\n",
       "    </tr>\n",
       "  </thead>\n",
       "  <tbody>\n",
       "    <tr>\n",
       "      <th>0</th>\n",
       "      <td>2000-04-01</td>\n",
       "      <td>ARS</td>\n",
       "      <td>Argentina</td>\n",
       "      <td>2.50</td>\n",
       "      <td>1.00</td>\n",
       "      <td>2.500000</td>\n",
       "    </tr>\n",
       "    <tr>\n",
       "      <th>1</th>\n",
       "      <td>2000-04-01</td>\n",
       "      <td>AUD</td>\n",
       "      <td>Australia</td>\n",
       "      <td>2.59</td>\n",
       "      <td>1.68</td>\n",
       "      <td>1.541667</td>\n",
       "    </tr>\n",
       "    <tr>\n",
       "      <th>2</th>\n",
       "      <td>2000-04-01</td>\n",
       "      <td>BRL</td>\n",
       "      <td>Brazil</td>\n",
       "      <td>2.95</td>\n",
       "      <td>1.79</td>\n",
       "      <td>1.648045</td>\n",
       "    </tr>\n",
       "    <tr>\n",
       "      <th>3</th>\n",
       "      <td>2000-04-01</td>\n",
       "      <td>CAD</td>\n",
       "      <td>Canada</td>\n",
       "      <td>2.85</td>\n",
       "      <td>1.47</td>\n",
       "      <td>1.938776</td>\n",
       "    </tr>\n",
       "    <tr>\n",
       "      <th>4</th>\n",
       "      <td>2000-04-01</td>\n",
       "      <td>CHF</td>\n",
       "      <td>Switzerland</td>\n",
       "      <td>5.90</td>\n",
       "      <td>1.70</td>\n",
       "      <td>3.470588</td>\n",
       "    </tr>\n",
       "  </tbody>\n",
       "</table>\n",
       "</div>"
      ],
      "text/plain": [
       "         date currency_code         name  local_price  dollar_ex  dollar_price\n",
       "0  2000-04-01           ARS    Argentina         2.50       1.00      2.500000\n",
       "1  2000-04-01           AUD    Australia         2.59       1.68      1.541667\n",
       "2  2000-04-01           BRL       Brazil         2.95       1.79      1.648045\n",
       "3  2000-04-01           CAD       Canada         2.85       1.47      1.938776\n",
       "4  2000-04-01           CHF  Switzerland         5.90       1.70      3.470588"
      ]
     },
     "execution_count": 83,
     "metadata": {},
     "output_type": "execute_result"
    }
   ],
   "source": [
    "df.head()"
   ]
  },
  {
   "cell_type": "code",
   "execution_count": 66,
   "metadata": {},
   "outputs": [
    {
     "name": "stdout",
     "output_type": "stream",
     "text": [
      "<class 'pandas.core.frame.DataFrame'>\n",
      "RangeIndex: 1330 entries, 0 to 1329\n",
      "Data columns (total 6 columns):\n",
      " #   Column         Non-Null Count  Dtype  \n",
      "---  ------         --------------  -----  \n",
      " 0   date           1330 non-null   object \n",
      " 1   currency_code  1330 non-null   object \n",
      " 2   name           1330 non-null   object \n",
      " 3   local_price    1330 non-null   float64\n",
      " 4   dollar_ex      1330 non-null   float64\n",
      " 5   dollar_price   1330 non-null   float64\n",
      "dtypes: float64(3), object(3)\n",
      "memory usage: 62.5+ KB\n"
     ]
    }
   ],
   "source": [
    "df.info()"
   ]
  },
  {
   "cell_type": "code",
   "execution_count": 75,
   "metadata": {},
   "outputs": [],
   "source": [
    "def set_dtypes(dataf):\n",
    "    return (dataf\n",
    "            .assign(date = lambda d: pd.to_datetime(d['date']))\n",
    "            .sort_values(['currency_code', 'date'])\n",
    "           )\n",
    "\n",
    "def remove_outliers(dataf, min_row_country=32):\n",
    "    countries = (dataf\n",
    "                 .groupby('currency_code')\n",
    "                 .agg(n=('name', 'count'))\n",
    "                 .loc[lambda d: d['n']>=min_row_country]\n",
    "                 .index\n",
    "                )\n",
    "    \n",
    "    return (dataf\n",
    "            .loc[lambda d: d['currency_code'].isin(countries)]\n",
    "           )"
   ]
  },
  {
   "cell_type": "code",
   "execution_count": 77,
   "metadata": {},
   "outputs": [
    {
     "data": {
      "text/plain": [
       "(1248, 6)"
      ]
     },
     "execution_count": 77,
     "metadata": {},
     "output_type": "execute_result"
    }
   ],
   "source": [
    "df.pipe(set_dtypes).pipe(remove_outliers, min_row_country=20).shape"
   ]
  },
  {
   "cell_type": "code",
   "execution_count": 88,
   "metadata": {},
   "outputs": [
    {
     "data": {
      "text/plain": [
       "date             datetime64[ns]\n",
       "currency_code            object\n",
       "name                     object\n",
       "local_price             float64\n",
       "dollar_ex               float64\n",
       "dollar_price            float64\n",
       "dtype: object"
      ]
     },
     "execution_count": 88,
     "metadata": {},
     "output_type": "execute_result"
    }
   ],
   "source": [
    "df = pd.read_csv('https://calmcode.io/datasets/bigmac.csv')\n",
    "\n",
    "def start_pipeline(dataf):\n",
    "    return dataf.copy()\n",
    "\n",
    "def set_types(dataf):\n",
    "    dataf['date'] = pd.to_datetime(dataf['date'])\n",
    "    return dataf\n",
    "\n",
    "df.pipe(start_pipeline).pipe(set_types).dtypes"
   ]
  },
  {
   "cell_type": "code",
   "execution_count": 89,
   "metadata": {},
   "outputs": [],
   "source": [
    "from functools import wraps\n",
    "import datetime as dt\n",
    "\n",
    "def log_step(func):\n",
    "    @wraps(func)\n",
    "    def wrapper(*args, **kwargs):\n",
    "        tic = dt.datetime.now()\n",
    "        result = func(*args, **kwargs)\n",
    "        time_taken = str(dt.datetime.now()-tic)\n",
    "        print(f\"just ran step {func.__name__} shape={result.shape} took {time_taken}s\")\n",
    "        return result\n",
    "    return wrapper"
   ]
  },
  {
   "cell_type": "code",
   "execution_count": 90,
   "metadata": {},
   "outputs": [],
   "source": [
    "df = pd.read_csv('https://calmcode.io/datasets/bigmac.csv')\n",
    "\n",
    "@log_step\n",
    "def start_pipeline(dataf):\n",
    "    return dataf.copy()\n",
    "\n",
    "@log_step\n",
    "def set_dtypes(dataf):\n",
    "    return (dataf\n",
    "            .assign(date = lambda d: pd.to_datetime(d['date']))\n",
    "            .sort_values(['currency_code', 'date'])\n",
    "           )\n",
    "\n",
    "@log_step\n",
    "def remove_outliers(dataf, min_row_country=32):\n",
    "    countries = (dataf\n",
    "                 .groupby('currency_code')\n",
    "                 .agg(n=('name', 'count'))\n",
    "                 .loc[lambda d: d['n']>=min_row_country]\n",
    "                 .index\n",
    "                )\n",
    "    \n",
    "    return (dataf\n",
    "            .loc[lambda d: d['currency_code'].isin(countries)]\n",
    "           )"
   ]
  },
  {
   "cell_type": "code",
   "execution_count": 91,
   "metadata": {},
   "outputs": [
    {
     "name": "stdout",
     "output_type": "stream",
     "text": [
      "just ran step start_pipeline shape=(1330, 6) took 0:00:00.000436s\n",
      "just ran step set_dtypes shape=(1330, 6) took 0:00:00.006420s\n",
      "just ran step remove_outliers shape=(864, 6) took 0:00:00.009544s\n"
     ]
    },
    {
     "data": {
      "text/html": [
       "<div>\n",
       "<style scoped>\n",
       "    .dataframe tbody tr th:only-of-type {\n",
       "        vertical-align: middle;\n",
       "    }\n",
       "\n",
       "    .dataframe tbody tr th {\n",
       "        vertical-align: top;\n",
       "    }\n",
       "\n",
       "    .dataframe thead th {\n",
       "        text-align: right;\n",
       "    }\n",
       "</style>\n",
       "<table border=\"1\" class=\"dataframe\">\n",
       "  <thead>\n",
       "    <tr style=\"text-align: right;\">\n",
       "      <th></th>\n",
       "      <th>date</th>\n",
       "      <th>currency_code</th>\n",
       "      <th>name</th>\n",
       "      <th>local_price</th>\n",
       "      <th>dollar_ex</th>\n",
       "      <th>dollar_price</th>\n",
       "    </tr>\n",
       "  </thead>\n",
       "  <tbody>\n",
       "    <tr>\n",
       "      <th>0</th>\n",
       "      <td>2000-04-01</td>\n",
       "      <td>ARS</td>\n",
       "      <td>Argentina</td>\n",
       "      <td>2.50</td>\n",
       "      <td>1.00000</td>\n",
       "      <td>2.500000</td>\n",
       "    </tr>\n",
       "    <tr>\n",
       "      <th>28</th>\n",
       "      <td>2001-04-01</td>\n",
       "      <td>ARS</td>\n",
       "      <td>Argentina</td>\n",
       "      <td>2.50</td>\n",
       "      <td>1.00000</td>\n",
       "      <td>2.500000</td>\n",
       "    </tr>\n",
       "    <tr>\n",
       "      <th>56</th>\n",
       "      <td>2002-04-01</td>\n",
       "      <td>ARS</td>\n",
       "      <td>Argentina</td>\n",
       "      <td>2.50</td>\n",
       "      <td>3.13000</td>\n",
       "      <td>0.798722</td>\n",
       "    </tr>\n",
       "    <tr>\n",
       "      <th>88</th>\n",
       "      <td>2003-04-01</td>\n",
       "      <td>ARS</td>\n",
       "      <td>Argentina</td>\n",
       "      <td>4.10</td>\n",
       "      <td>2.88000</td>\n",
       "      <td>1.423611</td>\n",
       "    </tr>\n",
       "    <tr>\n",
       "      <th>119</th>\n",
       "      <td>2004-05-01</td>\n",
       "      <td>ARS</td>\n",
       "      <td>Argentina</td>\n",
       "      <td>4.36</td>\n",
       "      <td>2.95000</td>\n",
       "      <td>1.477966</td>\n",
       "    </tr>\n",
       "    <tr>\n",
       "      <th>...</th>\n",
       "      <td>...</td>\n",
       "      <td>...</td>\n",
       "      <td>...</td>\n",
       "      <td>...</td>\n",
       "      <td>...</td>\n",
       "      <td>...</td>\n",
       "    </tr>\n",
       "    <tr>\n",
       "      <th>1105</th>\n",
       "      <td>2018-01-01</td>\n",
       "      <td>ZAR</td>\n",
       "      <td>South Africa</td>\n",
       "      <td>30.00</td>\n",
       "      <td>12.25815</td>\n",
       "      <td>2.447351</td>\n",
       "    </tr>\n",
       "    <tr>\n",
       "      <th>1161</th>\n",
       "      <td>2018-07-01</td>\n",
       "      <td>ZAR</td>\n",
       "      <td>South Africa</td>\n",
       "      <td>31.00</td>\n",
       "      <td>13.36190</td>\n",
       "      <td>2.320029</td>\n",
       "    </tr>\n",
       "    <tr>\n",
       "      <th>1217</th>\n",
       "      <td>2019-01-01</td>\n",
       "      <td>ZAR</td>\n",
       "      <td>South Africa</td>\n",
       "      <td>31.00</td>\n",
       "      <td>13.86750</td>\n",
       "      <td>2.235443</td>\n",
       "    </tr>\n",
       "    <tr>\n",
       "      <th>1273</th>\n",
       "      <td>2019-07-09</td>\n",
       "      <td>ZAR</td>\n",
       "      <td>South Africa</td>\n",
       "      <td>31.00</td>\n",
       "      <td>14.17500</td>\n",
       "      <td>2.186949</td>\n",
       "    </tr>\n",
       "    <tr>\n",
       "      <th>1329</th>\n",
       "      <td>2020-01-14</td>\n",
       "      <td>ZAR</td>\n",
       "      <td>South Africa</td>\n",
       "      <td>31.00</td>\n",
       "      <td>14.39100</td>\n",
       "      <td>2.154124</td>\n",
       "    </tr>\n",
       "  </tbody>\n",
       "</table>\n",
       "<p>864 rows × 6 columns</p>\n",
       "</div>"
      ],
      "text/plain": [
       "           date currency_code          name  local_price  dollar_ex  \\\n",
       "0    2000-04-01           ARS     Argentina         2.50    1.00000   \n",
       "28   2001-04-01           ARS     Argentina         2.50    1.00000   \n",
       "56   2002-04-01           ARS     Argentina         2.50    3.13000   \n",
       "88   2003-04-01           ARS     Argentina         4.10    2.88000   \n",
       "119  2004-05-01           ARS     Argentina         4.36    2.95000   \n",
       "...         ...           ...           ...          ...        ...   \n",
       "1105 2018-01-01           ZAR  South Africa        30.00   12.25815   \n",
       "1161 2018-07-01           ZAR  South Africa        31.00   13.36190   \n",
       "1217 2019-01-01           ZAR  South Africa        31.00   13.86750   \n",
       "1273 2019-07-09           ZAR  South Africa        31.00   14.17500   \n",
       "1329 2020-01-14           ZAR  South Africa        31.00   14.39100   \n",
       "\n",
       "      dollar_price  \n",
       "0         2.500000  \n",
       "28        2.500000  \n",
       "56        0.798722  \n",
       "88        1.423611  \n",
       "119       1.477966  \n",
       "...            ...  \n",
       "1105      2.447351  \n",
       "1161      2.320029  \n",
       "1217      2.235443  \n",
       "1273      2.186949  \n",
       "1329      2.154124  \n",
       "\n",
       "[864 rows x 6 columns]"
      ]
     },
     "execution_count": 91,
     "metadata": {},
     "output_type": "execute_result"
    }
   ],
   "source": [
    "(df\n",
    " .pipe(start_pipeline)\n",
    " .pipe(set_dtypes)\n",
    " .pipe(remove_outliers)\n",
    ")"
   ]
  },
  {
   "cell_type": "markdown",
   "metadata": {},
   "source": [
    "## Patsy"
   ]
  },
  {
   "cell_type": "code",
   "execution_count": 93,
   "metadata": {},
   "outputs": [],
   "source": [
    "# !curl https://calmcode.io/datasets/birthdays.csv --output ../data/raw/birthdays.csv"
   ]
  },
  {
   "cell_type": "code",
   "execution_count": 94,
   "metadata": {},
   "outputs": [],
   "source": [
    "import patsy as ps\n",
    "import numpy as np\n",
    "import pandas as pd\n",
    "import matplotlib.pylab as plt\n",
    "\n",
    "from sklearn.linear_model import LinearRegression\n",
    "\n",
    "df = pd.read_csv(\"../data/raw/birthdays.csv\")\n",
    "\n",
    "def clean_data(dataf):\n",
    "    return (dataf\n",
    "            .drop(columns=['Unnamed: 0'])\n",
    "            .assign(date = lambda d: pd.to_datetime(d['date']))\n",
    "            .groupby(['date', 'wday', 'month'])\n",
    "            .agg(n_born=('births', 'sum'))\n",
    "            .reset_index()\n",
    "            .assign(yday = lambda d: d['date'].dt.dayofyear))\n",
    "\n",
    "df_clean = df.pipe(clean_data)"
   ]
  },
  {
   "cell_type": "code",
   "execution_count": 95,
   "metadata": {},
   "outputs": [
    {
     "data": {
      "text/html": [
       "<div>\n",
       "<style scoped>\n",
       "    .dataframe tbody tr th:only-of-type {\n",
       "        vertical-align: middle;\n",
       "    }\n",
       "\n",
       "    .dataframe tbody tr th {\n",
       "        vertical-align: top;\n",
       "    }\n",
       "\n",
       "    .dataframe thead th {\n",
       "        text-align: right;\n",
       "    }\n",
       "</style>\n",
       "<table border=\"1\" class=\"dataframe\">\n",
       "  <thead>\n",
       "    <tr style=\"text-align: right;\">\n",
       "      <th></th>\n",
       "      <th>date</th>\n",
       "      <th>wday</th>\n",
       "      <th>month</th>\n",
       "      <th>n_born</th>\n",
       "      <th>yday</th>\n",
       "    </tr>\n",
       "  </thead>\n",
       "  <tbody>\n",
       "    <tr>\n",
       "      <th>0</th>\n",
       "      <td>1969-01-01</td>\n",
       "      <td>Wed</td>\n",
       "      <td>1</td>\n",
       "      <td>8486</td>\n",
       "      <td>1</td>\n",
       "    </tr>\n",
       "    <tr>\n",
       "      <th>1</th>\n",
       "      <td>1969-01-02</td>\n",
       "      <td>Thurs</td>\n",
       "      <td>1</td>\n",
       "      <td>9002</td>\n",
       "      <td>2</td>\n",
       "    </tr>\n",
       "    <tr>\n",
       "      <th>2</th>\n",
       "      <td>1969-01-03</td>\n",
       "      <td>Fri</td>\n",
       "      <td>1</td>\n",
       "      <td>9542</td>\n",
       "      <td>3</td>\n",
       "    </tr>\n",
       "    <tr>\n",
       "      <th>3</th>\n",
       "      <td>1969-01-04</td>\n",
       "      <td>Sat</td>\n",
       "      <td>1</td>\n",
       "      <td>8960</td>\n",
       "      <td>4</td>\n",
       "    </tr>\n",
       "    <tr>\n",
       "      <th>4</th>\n",
       "      <td>1969-01-05</td>\n",
       "      <td>Sun</td>\n",
       "      <td>1</td>\n",
       "      <td>8390</td>\n",
       "      <td>5</td>\n",
       "    </tr>\n",
       "  </tbody>\n",
       "</table>\n",
       "</div>"
      ],
      "text/plain": [
       "        date   wday  month  n_born  yday\n",
       "0 1969-01-01    Wed      1    8486     1\n",
       "1 1969-01-02  Thurs      1    9002     2\n",
       "2 1969-01-03    Fri      1    9542     3\n",
       "3 1969-01-04    Sat      1    8960     4\n",
       "4 1969-01-05    Sun      1    8390     5"
      ]
     },
     "execution_count": 95,
     "metadata": {},
     "output_type": "execute_result"
    }
   ],
   "source": [
    "df_clean.head()"
   ]
  },
  {
   "cell_type": "code",
   "execution_count": 96,
   "metadata": {},
   "outputs": [],
   "source": [
    "y, X = ps.dmatrices(\"n_born ~ wday + yday\", df_clean)"
   ]
  },
  {
   "cell_type": "code",
   "execution_count": 97,
   "metadata": {},
   "outputs": [
    {
     "data": {
      "text/plain": [
       "DesignMatrix with shape (7368, 8)\n",
       "  Columns:\n",
       "    ['Intercept',\n",
       "     'wday[T.Mon]',\n",
       "     'wday[T.Sat]',\n",
       "     'wday[T.Sun]',\n",
       "     'wday[T.Thurs]',\n",
       "     'wday[T.Tues]',\n",
       "     'wday[T.Wed]',\n",
       "     'yday']\n",
       "  Terms:\n",
       "    'Intercept' (column 0), 'wday' (columns 1:7), 'yday' (column 7)\n",
       "  (to view full data, use np.asarray(this_obj))"
      ]
     },
     "execution_count": 97,
     "metadata": {},
     "output_type": "execute_result"
    }
   ],
   "source": [
    "X"
   ]
  },
  {
   "cell_type": "code",
   "execution_count": 98,
   "metadata": {},
   "outputs": [
    {
     "data": {
      "text/plain": [
       "array([[1., 0., 0., 0., 0., 0., 1., 1.],\n",
       "       [1., 0., 0., 0., 1., 0., 0., 2.],\n",
       "       [1., 0., 0., 0., 0., 0., 0., 3.],\n",
       "       [1., 0., 1., 0., 0., 0., 0., 4.],\n",
       "       [1., 0., 0., 1., 0., 0., 0., 5.]])"
      ]
     },
     "execution_count": 98,
     "metadata": {},
     "output_type": "execute_result"
    }
   ],
   "source": [
    "X[:5]"
   ]
  },
  {
   "cell_type": "code",
   "execution_count": 103,
   "metadata": {},
   "outputs": [
    {
     "data": {
      "text/plain": [
       "[<matplotlib.lines.Line2D at 0x7fb71fe3a0f0>]"
      ]
     },
     "execution_count": 103,
     "metadata": {},
     "output_type": "execute_result"
    },
    {
     "data": {
      "image/png": "[encoded data removed]",
      "text/plain": [
       "<Figure size 864x216 with 1 Axes>"
      ]
     },
     "metadata": {
      "needs_background": "light"
     },
     "output_type": "display_data"
    }
   ],
   "source": [
    "df_ml = df_clean.head(100)\n",
    "\n",
    "y,X = ps.dmatrices(\"n_born ~ wday+yday\", df_ml)\n",
    "mod = LinearRegression().fit(X,y)\n",
    "\n",
    "plt.figure(figsize=(12,3))\n",
    "plt.scatter(df_ml['date'], y)\n",
    "plt.plot(df_ml['date'], mod.predict(X), color='orange')"
   ]
  },
  {
   "cell_type": "code",
   "execution_count": 106,
   "metadata": {},
   "outputs": [
    {
     "data": {
      "text/plain": [
       "DesignMatrix with shape (7368, 19)\n",
       "  Columns:\n",
       "    ['wday[Fri]',\n",
       "     'wday[Mon]',\n",
       "     'wday[Sat]',\n",
       "     'wday[Sun]',\n",
       "     'wday[Thurs]',\n",
       "     'wday[Tues]',\n",
       "     'wday[Wed]',\n",
       "     'C(month)[T.2]',\n",
       "     'C(month)[T.3]',\n",
       "     'C(month)[T.4]',\n",
       "     'C(month)[T.5]',\n",
       "     'C(month)[T.6]',\n",
       "     'C(month)[T.7]',\n",
       "     'C(month)[T.8]',\n",
       "     'C(month)[T.9]',\n",
       "     'C(month)[T.10]',\n",
       "     'C(month)[T.11]',\n",
       "     'C(month)[T.12]',\n",
       "     'yday']\n",
       "  Terms:\n",
       "    'wday' (columns 0:7)\n",
       "    'C(month)' (columns 7:18)\n",
       "    'yday' (column 18)\n",
       "  (to view full data, use np.asarray(this_obj))"
      ]
     },
     "execution_count": 106,
     "metadata": {},
     "output_type": "execute_result"
    }
   ],
   "source": [
    "y, X = ps.dmatrices(\"n_born ~ wday + yday - 1 + C(month)\", df_clean)\n",
    "X"
   ]
  },
  {
   "cell_type": "code",
   "execution_count": 107,
   "metadata": {},
   "outputs": [
    {
     "data": {
      "text/plain": [
       "DesignMatrix with shape (7368, 3)\n",
       "  Intercept  np.log(yday)  date_to_num(date)\n",
       "          1       0.00000                  0\n",
       "          1       0.69315                  1\n",
       "          1       1.09861                  2\n",
       "          1       1.38629                  3\n",
       "          1       1.60944                  4\n",
       "          1       1.79176                  5\n",
       "          1       1.94591                  6\n",
       "          1       2.07944                  7\n",
       "          1       2.19722                  8\n",
       "          1       2.30259                  9\n",
       "          1       2.39790                 10\n",
       "          1       2.48491                 11\n",
       "          1       2.56495                 12\n",
       "          1       2.63906                 13\n",
       "          1       2.70805                 14\n",
       "          1       2.77259                 15\n",
       "          1       2.83321                 16\n",
       "          1       2.89037                 17\n",
       "          1       2.94444                 18\n",
       "          1       2.99573                 19\n",
       "          1       3.04452                 20\n",
       "          1       3.09104                 21\n",
       "          1       3.13549                 22\n",
       "          1       3.17805                 23\n",
       "          1       3.21888                 24\n",
       "          1       3.25810                 25\n",
       "          1       3.29584                 26\n",
       "          1       3.33220                 27\n",
       "          1       3.36730                 28\n",
       "          1       3.40120                 29\n",
       "  [7338 rows omitted]\n",
       "  Terms:\n",
       "    'Intercept' (column 0)\n",
       "    'np.log(yday)' (column 1)\n",
       "    'date_to_num(date)' (column 2)\n",
       "  (to view full data, use np.asarray(this_obj))"
      ]
     },
     "execution_count": 107,
     "metadata": {},
     "output_type": "execute_result"
    }
   ],
   "source": [
    "import numpy as np\n",
    "\n",
    "def date_to_num(date_col):\n",
    "    return (date_col - date_col.min()).dt.days\n",
    "\n",
    "y, X = ps.dmatrices(\"n_born ~ np.log(yday) + date_to_num(date)\", df_clean)\n",
    "X"
   ]
  },
  {
   "cell_type": "code",
   "execution_count": 108,
   "metadata": {},
   "outputs": [
    {
     "data": {
      "text/plain": [
       "DesignMatrix with shape (7368, 4)\n",
       "  Intercept  np.log(yday)  date_to_num(date)  np.log(yday):date_to_num(date)\n",
       "          1       0.00000                  0                         0.00000\n",
       "          1       0.69315                  1                         0.69315\n",
       "          1       1.09861                  2                         2.19722\n",
       "          1       1.38629                  3                         4.15888\n",
       "          1       1.60944                  4                         6.43775\n",
       "          1       1.79176                  5                         8.95880\n",
       "          1       1.94591                  6                        11.67546\n",
       "          1       2.07944                  7                        14.55609\n",
       "          1       2.19722                  8                        17.57780\n",
       "          1       2.30259                  9                        20.72327\n",
       "          1       2.39790                 10                        23.97895\n",
       "          1       2.48491                 11                        27.33397\n",
       "          1       2.56495                 12                        30.77939\n",
       "          1       2.63906                 13                        34.30775\n",
       "          1       2.70805                 14                        37.91270\n",
       "          1       2.77259                 15                        41.58883\n",
       "          1       2.83321                 16                        45.33141\n",
       "          1       2.89037                 17                        49.13632\n",
       "          1       2.94444                 18                        52.99990\n",
       "          1       2.99573                 19                        56.91891\n",
       "          1       3.04452                 20                        60.89045\n",
       "          1       3.09104                 21                        64.91189\n",
       "          1       3.13549                 22                        68.98087\n",
       "          1       3.17805                 23                        73.09524\n",
       "          1       3.21888                 24                        77.25302\n",
       "          1       3.25810                 25                        81.45241\n",
       "          1       3.29584                 26                        85.69176\n",
       "          1       3.33220                 27                        89.96952\n",
       "          1       3.36730                 28                        94.28428\n",
       "          1       3.40120                 29                        98.63472\n",
       "  [7338 rows omitted]\n",
       "  Terms:\n",
       "    'Intercept' (column 0)\n",
       "    'np.log(yday)' (column 1)\n",
       "    'date_to_num(date)' (column 2)\n",
       "    'np.log(yday):date_to_num(date)' (column 3)\n",
       "  (to view full data, use np.asarray(this_obj))"
      ]
     },
     "execution_count": 108,
     "metadata": {},
     "output_type": "execute_result"
    }
   ],
   "source": [
    "y, X = ps.dmatrices(\"n_born ~ np.log(yday) * date_to_num(date)\", df_clean)\n",
    "X"
   ]
  },
  {
   "cell_type": "code",
   "execution_count": 109,
   "metadata": {},
   "outputs": [
    {
     "data": {
      "text/plain": [
       "DesignMatrix with shape (7368, 2)\n",
       "  Intercept  np.log(yday):date_to_num(date)\n",
       "          1                         0.00000\n",
       "          1                         0.69315\n",
       "          1                         2.19722\n",
       "          1                         4.15888\n",
       "          1                         6.43775\n",
       "          1                         8.95880\n",
       "          1                        11.67546\n",
       "          1                        14.55609\n",
       "          1                        17.57780\n",
       "          1                        20.72327\n",
       "          1                        23.97895\n",
       "          1                        27.33397\n",
       "          1                        30.77939\n",
       "          1                        34.30775\n",
       "          1                        37.91270\n",
       "          1                        41.58883\n",
       "          1                        45.33141\n",
       "          1                        49.13632\n",
       "          1                        52.99990\n",
       "          1                        56.91891\n",
       "          1                        60.89045\n",
       "          1                        64.91189\n",
       "          1                        68.98087\n",
       "          1                        73.09524\n",
       "          1                        77.25302\n",
       "          1                        81.45241\n",
       "          1                        85.69176\n",
       "          1                        89.96952\n",
       "          1                        94.28428\n",
       "          1                        98.63472\n",
       "  [7338 rows omitted]\n",
       "  Terms:\n",
       "    'Intercept' (column 0)\n",
       "    'np.log(yday):date_to_num(date)' (column 1)\n",
       "  (to view full data, use np.asarray(this_obj))"
      ]
     },
     "execution_count": 109,
     "metadata": {},
     "output_type": "execute_result"
    }
   ],
   "source": [
    "y, X = ps.dmatrices(\"n_born ~ np.log(yday) : date_to_num(date)\", df_clean)\n",
    "X"
   ]
  },
  {
   "cell_type": "code",
   "execution_count": 111,
   "metadata": {},
   "outputs": [
    {
     "data": {
      "text/plain": [
       "DesignMatrix with shape (7368, 28)\n",
       "  Columns:\n",
       "    ['Intercept',\n",
       "     'wday[T.Mon]',\n",
       "     'wday[T.Sat]',\n",
       "     'wday[T.Sun]',\n",
       "     'wday[T.Thurs]',\n",
       "     'wday[T.Tues]',\n",
       "     'wday[T.Wed]',\n",
       "     'np.log(yday)',\n",
       "     'np.log(yday):wday[T.Mon]',\n",
       "     'np.log(yday):wday[T.Sat]',\n",
       "     'np.log(yday):wday[T.Sun]',\n",
       "     'np.log(yday):wday[T.Thurs]',\n",
       "     'np.log(yday):wday[T.Tues]',\n",
       "     'np.log(yday):wday[T.Wed]',\n",
       "     'date_to_num(date)',\n",
       "     'date_to_num(date):wday[T.Mon]',\n",
       "     'date_to_num(date):wday[T.Sat]',\n",
       "     'date_to_num(date):wday[T.Sun]',\n",
       "     'date_to_num(date):wday[T.Thurs]',\n",
       "     'date_to_num(date):wday[T.Tues]',\n",
       "     'date_to_num(date):wday[T.Wed]',\n",
       "     'np.log(yday):date_to_num(date)',\n",
       "     'np.log(yday):date_to_num(date):wday[T.Mon]',\n",
       "     'np.log(yday):date_to_num(date):wday[T.Sat]',\n",
       "     'np.log(yday):date_to_num(date):wday[T.Sun]',\n",
       "     'np.log(yday):date_to_num(date):wday[T.Thurs]',\n",
       "     'np.log(yday):date_to_num(date):wday[T.Tues]',\n",
       "     'np.log(yday):date_to_num(date):wday[T.Wed]']\n",
       "  Terms:\n",
       "    'Intercept' (column 0)\n",
       "    'wday' (columns 1:7)\n",
       "    'np.log(yday)' (column 7)\n",
       "    'np.log(yday):wday' (columns 8:14)\n",
       "    'date_to_num(date)' (column 14)\n",
       "    'date_to_num(date):wday' (columns 15:21)\n",
       "    'np.log(yday):date_to_num(date)' (column 21)\n",
       "    'np.log(yday):date_to_num(date):wday' (columns 22:28)\n",
       "  (to view full data, use np.asarray(this_obj))"
      ]
     },
     "execution_count": 111,
     "metadata": {},
     "output_type": "execute_result"
    }
   ],
   "source": [
    "y, X = ps.dmatrices(\"n_born ~ (np.log(yday) + date_to_num(date) + wday)**3\", df_clean)\n",
    "\n",
    "X"
   ]
  },
  {
   "cell_type": "markdown",
   "metadata": {},
   "source": [
    "# Annoy"
   ]
  },
  {
   "cell_type": "code",
   "execution_count": 1,
   "metadata": {},
   "outputs": [],
   "source": [
    "import numpy as np\n",
    "import matplotlib.pylab as plt\n",
    "from annoy import AnnoyIndex"
   ]
  },
  {
   "cell_type": "code",
   "execution_count": 2,
   "metadata": {},
   "outputs": [],
   "source": [
    "columns = 2\n",
    "\n",
    "vecs = np.concatenate([\n",
    "    np.random.normal(-1, 1, (5000, columns)),\n",
    "    np.random.normal(0, 0.5, (5000, columns)),\n",
    "])"
   ]
  },
  {
   "cell_type": "code",
   "execution_count": 3,
   "metadata": {},
   "outputs": [
    {
     "data": {
      "text/plain": [
       "<matplotlib.collections.PathCollection at 0x7fc8d42fbcc0>"
      ]
     },
     "execution_count": 3,
     "metadata": {},
     "output_type": "execute_result"
    },
    {
     "data": {
      "image/png": "[encoded data removed]",
      "text/plain": [
       "<Figure size 432x288 with 1 Axes>"
      ]
     },
     "metadata": {
      "needs_background": "light"
     },
     "output_type": "display_data"
    }
   ],
   "source": [
    "plt.scatter(vecs[:, 0], vecs[:, 1], s=1)"
   ]
  },
  {
   "cell_type": "code",
   "execution_count": 10,
   "metadata": {},
   "outputs": [
    {
     "data": {
      "text/plain": [
       "True"
      ]
     },
     "execution_count": 10,
     "metadata": {},
     "output_type": "execute_result"
    }
   ],
   "source": [
    "annoy = AnnoyIndex(columns, 'euclidean')\n",
    "for i in range(vecs.shape[0]):\n",
    "    annoy.add_item(i, vecs[i, :])\n",
    "annoy.build(n_trees=10)"
   ]
  },
  {
   "cell_type": "code",
   "execution_count": 11,
   "metadata": {},
   "outputs": [
    {
     "data": {
      "image/png": "[encoded data removed]",
      "text/plain": [
       "<Figure size 360x360 with 1 Axes>"
      ]
     },
     "metadata": {
      "needs_background": "light"
     },
     "output_type": "display_data"
    }
   ],
   "source": [
    "plt.figure(figsize=(5, 5))\n",
    "plt.scatter(vecs[:, 0], vecs[:, 1], s=1)\n",
    "\n",
    "indices = annoy.get_nns_by_vector(np.array([-1., -1.]), 2000)\n",
    "\n",
    "subset = vecs[indices, :]\n",
    "plt.scatter(subset[:, 0], subset[:, 1], s=1);"
   ]
  },
  {
   "cell_type": "markdown",
   "metadata": {},
   "source": [
    "# Human Learn"
   ]
  },
  {
   "cell_type": "code",
   "execution_count": 12,
   "metadata": {},
   "outputs": [
    {
     "name": "stderr",
     "output_type": "stream",
     "text": [
      "/Users/amangal/anaconda3/envs/stanford-nlp/lib/python3.6/importlib/_bootstrap.py:219: RuntimeWarning: numpy.ufunc size changed, may indicate binary incompatibility. Expected 192 from C header, got 216 from PyObject\n",
      "  return f(*args, **kwds)\n",
      "/Users/amangal/anaconda3/envs/stanford-nlp/lib/python3.6/importlib/_bootstrap.py:219: RuntimeWarning: numpy.ufunc size changed, may indicate binary incompatibility. Expected 192 from C header, got 216 from PyObject\n",
      "  return f(*args, **kwds)\n",
      "/Users/amangal/anaconda3/envs/stanford-nlp/lib/python3.6/importlib/_bootstrap.py:219: RuntimeWarning: numpy.ufunc size changed, may indicate binary incompatibility. Expected 192 from C header, got 216 from PyObject\n",
      "  return f(*args, **kwds)\n",
      "/Users/amangal/anaconda3/envs/stanford-nlp/lib/python3.6/importlib/_bootstrap.py:219: RuntimeWarning: numpy.ufunc size changed, may indicate binary incompatibility. Expected 192 from C header, got 216 from PyObject\n",
      "  return f(*args, **kwds)\n",
      "/Users/amangal/anaconda3/envs/stanford-nlp/lib/python3.6/importlib/_bootstrap.py:219: RuntimeWarning: numpy.ufunc size changed, may indicate binary incompatibility. Expected 192 from C header, got 216 from PyObject\n",
      "  return f(*args, **kwds)\n"
     ]
    }
   ],
   "source": [
    "import numpy as np\n",
    "import pandas as pd\n",
    "\n",
    "from hulearn.datasets import load_titanic\n",
    "from sklearn.model_selection import GridSearchCV"
   ]
  },
  {
   "cell_type": "code",
   "execution_count": 13,
   "metadata": {},
   "outputs": [],
   "source": [
    "df = load_titanic(as_frame=True)"
   ]
  },
  {
   "cell_type": "code",
   "execution_count": 14,
   "metadata": {},
   "outputs": [],
   "source": [
    "X,y = df.drop(columns=['survived']), df['survived']"
   ]
  },
  {
   "cell_type": "code",
   "execution_count": 15,
   "metadata": {},
   "outputs": [
    {
     "data": {
      "text/html": [
       "<div>\n",
       "<style scoped>\n",
       "    .dataframe tbody tr th:only-of-type {\n",
       "        vertical-align: middle;\n",
       "    }\n",
       "\n",
       "    .dataframe tbody tr th {\n",
       "        vertical-align: top;\n",
       "    }\n",
       "\n",
       "    .dataframe thead th {\n",
       "        text-align: right;\n",
       "    }\n",
       "</style>\n",
       "<table border=\"1\" class=\"dataframe\">\n",
       "  <thead>\n",
       "    <tr style=\"text-align: right;\">\n",
       "      <th></th>\n",
       "      <th>survived</th>\n",
       "      <th>pclass</th>\n",
       "      <th>name</th>\n",
       "      <th>sex</th>\n",
       "      <th>age</th>\n",
       "      <th>fare</th>\n",
       "      <th>sibsp</th>\n",
       "      <th>parch</th>\n",
       "    </tr>\n",
       "  </thead>\n",
       "  <tbody>\n",
       "    <tr>\n",
       "      <th>0</th>\n",
       "      <td>0</td>\n",
       "      <td>3</td>\n",
       "      <td>Braund, Mr. Owen Harris</td>\n",
       "      <td>male</td>\n",
       "      <td>22.0</td>\n",
       "      <td>7.2500</td>\n",
       "      <td>1</td>\n",
       "      <td>0</td>\n",
       "    </tr>\n",
       "    <tr>\n",
       "      <th>1</th>\n",
       "      <td>1</td>\n",
       "      <td>1</td>\n",
       "      <td>Cumings, Mrs. John Bradley (Florence Briggs Th...</td>\n",
       "      <td>female</td>\n",
       "      <td>38.0</td>\n",
       "      <td>71.2833</td>\n",
       "      <td>1</td>\n",
       "      <td>0</td>\n",
       "    </tr>\n",
       "    <tr>\n",
       "      <th>2</th>\n",
       "      <td>1</td>\n",
       "      <td>3</td>\n",
       "      <td>Heikkinen, Miss. Laina</td>\n",
       "      <td>female</td>\n",
       "      <td>26.0</td>\n",
       "      <td>7.9250</td>\n",
       "      <td>0</td>\n",
       "      <td>0</td>\n",
       "    </tr>\n",
       "    <tr>\n",
       "      <th>3</th>\n",
       "      <td>1</td>\n",
       "      <td>1</td>\n",
       "      <td>Futrelle, Mrs. Jacques Heath (Lily May Peel)</td>\n",
       "      <td>female</td>\n",
       "      <td>35.0</td>\n",
       "      <td>53.1000</td>\n",
       "      <td>1</td>\n",
       "      <td>0</td>\n",
       "    </tr>\n",
       "    <tr>\n",
       "      <th>4</th>\n",
       "      <td>0</td>\n",
       "      <td>3</td>\n",
       "      <td>Allen, Mr. William Henry</td>\n",
       "      <td>male</td>\n",
       "      <td>35.0</td>\n",
       "      <td>8.0500</td>\n",
       "      <td>0</td>\n",
       "      <td>0</td>\n",
       "    </tr>\n",
       "  </tbody>\n",
       "</table>\n",
       "</div>"
      ],
      "text/plain": [
       "   survived  pclass                                               name  \\\n",
       "0         0       3                            Braund, Mr. Owen Harris   \n",
       "1         1       1  Cumings, Mrs. John Bradley (Florence Briggs Th...   \n",
       "2         1       3                             Heikkinen, Miss. Laina   \n",
       "3         1       1       Futrelle, Mrs. Jacques Heath (Lily May Peel)   \n",
       "4         0       3                           Allen, Mr. William Henry   \n",
       "\n",
       "      sex   age     fare  sibsp  parch  \n",
       "0    male  22.0   7.2500      1      0  \n",
       "1  female  38.0  71.2833      1      0  \n",
       "2  female  26.0   7.9250      0      0  \n",
       "3  female  35.0  53.1000      1      0  \n",
       "4    male  35.0   8.0500      0      0  "
      ]
     },
     "execution_count": 15,
     "metadata": {},
     "output_type": "execute_result"
    }
   ],
   "source": [
    "df.head()"
   ]
  },
  {
   "cell_type": "code",
   "execution_count": 16,
   "metadata": {},
   "outputs": [],
   "source": [
    "def fare_based(dataf, threshold=10):\n",
    "    return np.array(dataf['fare'] > threshold).astype(int)"
   ]
  },
  {
   "cell_type": "code",
   "execution_count": 17,
   "metadata": {},
   "outputs": [
    {
     "data": {
      "text/plain": [
       "array([0, 1, 0, 1, 0, 1, 1, 1, 1, 1, 1, 0, 1, 0, 1, 1, 1, 1, 1, 0, 1, 1,\n",
       "       1, 1, 1, 1, 1, 1, 0, 1, 1, 0, 1, 1, 0, 1, 1, 0, 1, 1, 1, 1, 0, 1,\n",
       "       1, 0, 1, 1, 1, 1, 0, 0, 0, 1, 1, 1, 1, 1, 0, 1, 1, 0, 0, 1, 1, 1,\n",
       "       1, 1, 0, 0, 0, 1, 1, 0, 1, 1, 1, 1, 0, 1, 0, 0, 0, 0, 0, 1, 1, 0,\n",
       "       0, 1, 0, 0, 1, 1, 1, 1, 1, 1, 1, 1, 0, 0, 0, 0, 1, 1, 1, 1, 1, 1,\n",
       "       0, 1, 0, 1, 0, 1, 1, 0, 1, 1, 1, 1, 1, 0, 1, 1, 0, 0, 1, 1, 0, 0,\n",
       "       1, 1, 1, 1, 1, 1, 1, 0, 1, 0, 1, 1, 0, 1, 1, 1, 1, 1, 0, 1, 1, 0,\n",
       "       1, 1, 1, 0, 1, 0, 0, 0, 0, 1, 1, 1, 0, 1, 0, 1, 0, 1, 1, 0, 1, 1,\n",
       "       1, 0, 1, 0, 1, 0, 1, 0, 1, 1, 0, 1, 1, 1, 1, 1, 1, 1, 1, 0, 0, 1,\n",
       "       0, 1, 1, 1, 1, 1, 1, 1, 1, 1, 1, 1, 1, 1, 0, 1, 1, 0, 1, 1, 0, 1,\n",
       "       1, 1, 0, 1, 1, 0, 0, 0, 0, 0, 0, 0, 1, 0, 1, 1, 1, 0, 0, 0, 1, 1,\n",
       "       0, 1, 1, 1, 1, 1, 1, 1, 0, 1, 0, 1, 1, 1, 1, 0, 0, 1, 1, 1, 0, 1,\n",
       "       1, 1, 1, 1, 1, 1, 1, 0, 1, 1, 1, 1, 1, 1, 1, 1, 1, 0, 0, 0, 1, 0,\n",
       "       1, 1, 1, 1, 1, 0, 0, 1, 1, 1, 0, 0, 1, 1, 0, 1, 0, 0, 1, 1, 0, 1,\n",
       "       1, 1, 1, 1, 1, 0, 0, 1, 1, 0, 0, 1, 1, 1, 0, 0, 0, 1, 0, 1, 0, 1,\n",
       "       0, 1, 0, 1, 1, 1, 1, 0, 0, 1, 1, 1, 1, 0, 1, 1, 0, 1, 1, 1, 1, 1,\n",
       "       1, 1, 0, 0, 1, 1, 1, 1, 1, 1, 1, 1, 1, 0, 1, 1, 1, 0, 1, 1, 0, 1,\n",
       "       1, 0, 1, 1, 0, 1, 0, 0, 1, 1, 0, 0, 1, 1, 1, 0, 1, 0, 1, 1, 0, 1,\n",
       "       1, 0, 0, 0, 0, 1, 1, 1, 1, 1, 0, 1, 1, 0, 1, 1, 1, 0, 1, 0, 1, 0,\n",
       "       1, 0, 1, 1, 0, 0, 1, 1, 1, 1, 1, 1, 1, 1, 1, 1, 1, 1, 1, 1, 1, 0,\n",
       "       0, 1, 1, 1, 1, 0, 1, 1, 0, 1, 0, 1, 1, 1, 0, 1, 1, 1, 0, 1, 1, 1,\n",
       "       1, 1, 1, 1, 0, 0, 1, 0, 1, 1, 0, 1, 1, 0, 1, 1, 0, 1, 1, 1, 1, 0,\n",
       "       1, 1, 1, 1, 1, 1, 1, 1, 0, 1, 1, 1, 1, 0, 1, 0, 1, 1, 1, 0, 1, 1,\n",
       "       0, 1, 1, 1, 1, 0, 1, 0, 1, 0, 0, 1, 1, 1, 1, 1, 0, 1, 0, 0, 1, 1,\n",
       "       0, 1, 1, 1, 1, 0, 0, 0, 1, 1, 1, 0, 1, 1, 1, 1, 1, 0, 1, 1, 1, 0,\n",
       "       1, 1, 0, 1, 0, 1, 1, 1, 0, 0, 1, 1, 1, 1, 1, 1, 0, 1, 0, 1, 1, 0,\n",
       "       1, 0, 1, 1, 1, 0, 1, 1, 0, 1, 1, 1, 1, 1, 1, 1, 1, 1, 1, 0, 1, 1,\n",
       "       1, 1, 0, 1, 1, 0, 0, 1, 1, 0, 1, 0, 1, 0, 0, 1, 0, 1, 0, 0, 0, 0,\n",
       "       1, 1, 0, 1, 1, 0, 1, 1, 0, 0, 0, 1, 1, 1, 1, 0, 1, 1, 0, 0, 1, 1,\n",
       "       1, 1, 0, 0, 0, 0, 0, 1, 1, 0, 1, 1, 1, 0, 0, 1, 0, 1, 1, 0, 0, 1,\n",
       "       1, 1, 1, 1, 1, 0, 0, 1, 0, 1, 0, 1, 1, 0, 0, 0, 0, 1, 1, 0, 1, 1,\n",
       "       1, 0, 1, 1, 1, 1, 1, 1, 1, 1, 1, 1, 1, 0, 1, 0, 0, 1, 0, 0, 0, 1,\n",
       "       1, 0, 1, 1, 0, 1, 1, 1, 1, 0])"
      ]
     },
     "execution_count": 17,
     "metadata": {},
     "output_type": "execute_result"
    }
   ],
   "source": [
    "fare_based(X)"
   ]
  },
  {
   "cell_type": "code",
   "execution_count": 18,
   "metadata": {},
   "outputs": [],
   "source": [
    "from hulearn.classification import FunctionClassifier\n",
    "# This next line of code changes the function into a proper scikit-learn compatible model.\n",
    "mod = FunctionClassifier(fare_based, threshold=10)"
   ]
  },
  {
   "cell_type": "code",
   "execution_count": 19,
   "metadata": {},
   "outputs": [
    {
     "data": {
      "text/plain": [
       "GridSearchCV(cv=2,\n",
       "             estimator=FunctionClassifier(func=<function fare_based at 0x7fc8d0ec6e18>,\n",
       "                                          threshold=10),\n",
       "             param_grid={'threshold': array([  0.        ,   3.44827586,   6.89655172,  10.34482759,\n",
       "        13.79310345,  17.24137931,  20.68965517,  24.13793103,\n",
       "        27.5862069 ,  31.03448276,  34.48275862,  37.93103448,\n",
       "        41.37931034,  44.82758621,  48.27586207,  51.72413793,\n",
       "        55.17241379,  58.62068966,  62.06896552,  65.51724138,\n",
       "        68.96551724,  72.4137931 ,  75.86206897,  79.31034483,\n",
       "        82.75862069,  86.20689655,  89.65517241,  93.10344828,\n",
       "        96.55172414, 100.        ])},\n",
       "             refit='accuracy',\n",
       "             scoring={'accuracy': make_scorer(accuracy_score),\n",
       "                      'precision': make_scorer(precision_score),\n",
       "                      'recall': make_scorer(recall_score)})"
      ]
     },
     "execution_count": 19,
     "metadata": {},
     "output_type": "execute_result"
    }
   ],
   "source": [
    "from sklearn.model_selection import GridSearchCV\n",
    "from sklearn.metrics import precision_score, recall_score, accuracy_score, make_scorer\n",
    "\n",
    "grid = GridSearchCV(mod, \n",
    "                    cv=2, \n",
    "                    param_grid={'threshold': np.linspace(0, 100, 30)},\n",
    "                    scoring={'accuracy': make_scorer(accuracy_score), \n",
    "                            'precision': make_scorer(precision_score),\n",
    "                            'recall': make_scorer(recall_score)},\n",
    "                    refit='accuracy'\n",
    "                )\n",
    "grid.fit(X, y)"
   ]
  },
  {
   "cell_type": "code",
   "execution_count": 20,
   "metadata": {},
   "outputs": [
    {
     "data": {
      "image/png": "[encoded data removed]",
      "text/plain": [
       "<Figure size 864x360 with 1 Axes>"
      ]
     },
     "metadata": {
      "needs_background": "light"
     },
     "output_type": "display_data"
    }
   ],
   "source": [
    "score_df = (pd.DataFrame(grid.cv_results_)\n",
    "  .set_index('param_threshold')\n",
    "  [['mean_test_accuracy', 'mean_test_precision', 'mean_test_recall']])\n",
    "\n",
    "score_df.plot(figsize=(12, 5), title=\"scores vs. fare-threshold\");"
   ]
  },
  {
   "cell_type": "code",
   "execution_count": null,
   "metadata": {},
   "outputs": [],
   "source": []
  }
 ],
 "metadata": {
  "kernelspec": {
   "display_name": "Python 3",
   "language": "python",
   "name": "python3"
  },
  "language_info": {
   "codemirror_mode": {
    "name": "ipython",
    "version": 3
   },
   "file_extension": ".py",
   "mimetype": "text/x-python",
   "name": "python",
   "nbconvert_exporter": "python",
   "pygments_lexer": "ipython3",
   "version": "3.6.10"
  }
 },
 "nbformat": 4,
 "nbformat_minor": 4
}
